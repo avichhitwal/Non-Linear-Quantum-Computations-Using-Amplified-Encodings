{
  "nbformat": 4,
  "nbformat_minor": 0,
  "metadata": {
    "colab": {
      "provenance": [],
      "authorship_tag": "ABX9TyMoVqhulAC48bXJ/BHmNkj3",
      "include_colab_link": true
    },
    "kernelspec": {
      "name": "python3",
      "display_name": "Python 3"
    },
    "language_info": {
      "name": "python"
    }
  },
  "cells": [
    {
      "cell_type": "markdown",
      "metadata": {
        "id": "view-in-github",
        "colab_type": "text"
      },
      "source": [
        "<a href=\"https://colab.research.google.com/github/avichhitwal/Non-Linear-Quantum-Computations-Using-Amplified-Encodings/blob/main/qnonlinear.ipynb\" target=\"_parent\"><img src=\"https://colab.research.google.com/assets/colab-badge.svg\" alt=\"Open In Colab\"/></a>"
      ]
    },
    {
      "cell_type": "code",
      "source": [
        "import qiskit as qk\n",
        "import numpy as np\n",
        "import qiskit_aer\n",
        "from qiskit.primitives import BaseEstimatorV2 as Estimator\n",
        "from qiskit_ibm_runtime import EstimatorV2, QiskitRuntimeService, Session\n",
        "\n",
        "backend = qiskit_aer.Aer.get_backend(\"aer_simulator\")\n",
        "estimator = EstimatorV2(backend)\n",
        "estimator.options.default_precision = 0.001"
      ],
      "metadata": {
        "id": "wnJeVWEZDPpC"
      },
      "execution_count": null,
      "outputs": []
    },
    {
      "cell_type": "markdown",
      "source": [
        "# Fixed point iteration using Amplified Encodings\n",
        "\n",
        "In this file we will define an amplified encoding for the function\n",
        "$$\n",
        "g(x) = \\begin{bmatrix} 1 \\\\ 1 \\end{bmatrix} - \\frac18 \\begin{bmatrix} (x_1 + x_2)^2 \\\\ (x_1 - x_2)^2 \\end{bmatrix}.\n",
        "$$\n",
        "and use it to find the fixed point where $g(x) = x$.\n",
        "An amplified encoding is a function that takes a block encoding of $x$ and constructs a block encoding of $g(x)$. For this we will need a data structure to hold the block encoding."
      ],
      "metadata": {
        "id": "M2vCzpDGDwQT"
      }
    },
    {
      "cell_type": "code",
      "source": [
        "class BlockEncoding:\n",
        "\n",
        "    def __init__(self, U: qk.QuantumCircuit, cU: qk.QuantumCircuit, norm: float):\n",
        "        self.U = U        # non-controlled version of unitary of block encoding\n",
        "        self.cU = cU      # controlled version of unitary of block encoding\n",
        "        self.norm = norm  # normalization of block encoding"
      ],
      "metadata": {
        "id": "QDHLU2i4DXTy"
      },
      "execution_count": 25,
      "outputs": []
    },
    {
      "cell_type": "markdown",
      "source": [
        "Usually the data structure would also need fields to store the projections $\\Pi_1$ and $\\Pi_2$ (or the circuits that implement them). Here, we always know that the projections will either be\n",
        "\n",
        "1) $\\langle 0|$ for the domain and $\\operatorname{Id}_1$ for the codomain, when the block encoding has information efficiency 1, or\n",
        "2) $\\langle 000|$ for the domain and $\\langle 00| \\otimes \\operatorname{Id}_1$ for the codomain.\n",
        "\n",
        "We will refer back to this as projections 1) and 2) later. Controlled versions for all circuits are implemented manually for efficiency.\n",
        "\n",
        "We could for example define a block encoding for our starting value $x^{(0)} = [1 \\;1]^T$ with projections 1) like the following."
      ],
      "metadata": {
        "id": "2xZURx8gFH5c"
      }
    },
    {
      "cell_type": "code",
      "source": [
        "U_x = qk.QuantumCircuit(1, name=\"U_x0\")\n",
        "U_x.ry(2 * np.arctan(1/1), 0)\n",
        "cU_x = qk.QuantumCircuit(2, name=\"cU_x0\")\n",
        "cU_x.cry(2 * np.arctan(1/1), 0, 1)\n",
        "\n",
        "x0 = BlockEncoding(U_x, cU_x, np.sqrt(2))\n",
        "\n",
        "U_x.draw(\"mpl\")"
      ],
      "metadata": {
        "colab": {
          "base_uri": "https://localhost:8080/",
          "height": 127
        },
        "id": "QkhgDh5yDz4f",
        "outputId": "8e97f959-c84d-42eb-f13b-227079cbdf51"
      },
      "execution_count": 26,
      "outputs": [
        {
          "output_type": "execute_result",
          "data": {
            "text/plain": [
              "<Figure size 185.453x117.056 with 1 Axes>"
            ],
            "image/png": "[encoded data removed]"
          },
          "metadata": {},
          "execution_count": 26
        }
      ]
    },
    {
      "cell_type": "markdown",
      "source": [
        "We now use this to implement a block encoding of $g(x)$"
      ],
      "metadata": {
        "id": "_OgeHi8ZFLWr"
      }
    },
    {
      "cell_type": "code",
      "source": [
        "U_g = qk.QuantumCircuit(3)"
      ],
      "metadata": {
        "id": "a_0oEWmsD0Tg"
      },
      "execution_count": 27,
      "outputs": []
    },
    {
      "cell_type": "markdown",
      "source": [
        "The last qubit is used to control the addition of the constant and quadratic terms. We use a rotation so that the qubit is in state $|1\\rangle$ with probability\n",
        "$$\\frac{\\big|[1 \\; 1]^T\\big|}{|g(x)|}$$"
      ],
      "metadata": {
        "id": "6KK_NXCPFNtD"
      }
    },
    {
      "cell_type": "code",
      "source": [
        "angle = 2 * np.arctan(np.sqrt(np.sqrt(2) / ((2/8) * x0.norm ** 2)))\n",
        "U_g.ry(angle, 2)"
      ],
      "metadata": {
        "colab": {
          "base_uri": "https://localhost:8080/"
        },
        "id": "FNIU9J3zD16z",
        "outputId": "a047259d-a837-4f90-fddf-b86c449dd647"
      },
      "execution_count": 28,
      "outputs": [
        {
          "output_type": "execute_result",
          "data": {
            "text/plain": [
              "<qiskit.circuit.instructionset.InstructionSet at 0x7e8bdaa5f070>"
            ]
          },
          "metadata": {},
          "execution_count": 28
        }
      ]
    },
    {
      "cell_type": "markdown",
      "source": [
        "If it is we want to prepare the vector $[1\\; 1]^T$ in the first register, which we do using a Hadamard gate."
      ],
      "metadata": {
        "id": "6l7n3RHPFRDh"
      }
    },
    {
      "cell_type": "code",
      "source": [
        "U_g.ch(2, 0)"
      ],
      "metadata": {
        "colab": {
          "base_uri": "https://localhost:8080/"
        },
        "id": "FWexvZ8zF4_K",
        "outputId": "3da98412-6589-4d37-f419-3dfeeaca8a7d"
      },
      "execution_count": 41,
      "outputs": [
        {
          "output_type": "execute_result",
          "data": {
            "text/plain": [
              "<qiskit.circuit.instructionset.InstructionSet at 0x7e8bd9d22110>"
            ]
          },
          "metadata": {},
          "execution_count": 41
        }
      ]
    },
    {
      "cell_type": "markdown",
      "source": [
        "Otherwise, we flip the sign using a $\\mathrm{Z}$ gate (to get subtraction instead of addition) and prepare two copies of $x^{0}$."
      ],
      "metadata": {
        "id": "sCLmTZPdF1h_"
      }
    },
    {
      "cell_type": "code",
      "source": [
        "U_g.x(2)\n",
        "U_g.z(2)\n",
        "U_g.append(x0.cU, [2, 0])\n",
        "U_g.append(x0.cU, [2, 1])"
      ],
      "metadata": {
        "colab": {
          "base_uri": "https://localhost:8080/"
        },
        "id": "d_NTj_YiD3E3",
        "outputId": "d98c390c-6161-4162-9ddf-43c4a4a95ad0"
      },
      "execution_count": 43,
      "outputs": [
        {
          "output_type": "execute_result",
          "data": {
            "text/plain": [
              "<qiskit.circuit.instructionset.InstructionSet at 0x7e8bd962ba30>"
            ]
          },
          "metadata": {},
          "execution_count": 43
        }
      ]
    },
    {
      "cell_type": "markdown",
      "source": [
        "We then apply the matrix\n",
        "$$\\begin{bmatrix} 1 & \\phantom{-}1 \\\\ 1 & -1\\end{bmatrix}$$\n",
        "to both copies using two more Hadamard gates, giving us two copies of\n",
        "$$\\begin{bmatrix} x_1 + x_2 \\\\ x_1 - x_2 \\end{bmatrix}.$$\n",
        "These are finally multiplied using a CNOT gate."
      ],
      "metadata": {
        "id": "YTZ-PGk4Fy9B"
      }
    },
    {
      "cell_type": "code",
      "source": [
        "U_g.ch(2, 0)\n",
        "U_g.ch(2, 1)\n",
        "U_g.ccx(2, 0, 1)"
      ],
      "metadata": {
        "colab": {
          "base_uri": "https://localhost:8080/"
        },
        "id": "VdrBxwgJD4UX",
        "outputId": "7472c638-5b57-405a-f40c-f7f78f133399"
      },
      "execution_count": 44,
      "outputs": [
        {
          "output_type": "execute_result",
          "data": {
            "text/plain": [
              "<qiskit.circuit.instructionset.InstructionSet at 0x7e8bd9683700>"
            ]
          },
          "metadata": {},
          "execution_count": 44
        }
      ]
    },
    {
      "cell_type": "markdown",
      "source": [
        "Lastly, we reverse the rotation of the ancilla qubit."
      ],
      "metadata": {
        "id": "9T2CSDLnFvc8"
      }
    },
    {
      "cell_type": "code",
      "source": [
        "U_g.ry(-(np.pi - angle), 2)\n",
        "U_g.draw(\"mpl\")"
      ],
      "metadata": {
        "colab": {
          "base_uri": "https://localhost:8080/",
          "height": 473
        },
        "id": "J44JhOXrD5lA",
        "outputId": "8fc57750-7b36-4733-9637-4fe9e51e762b"
      },
      "execution_count": 45,
      "outputs": [
        {
          "output_type": "execute_result",
          "data": {
            "text/plain": [
              "<Figure size 2210.55x618.722 with 1 Axes>"
            ],
            "image/png": "[encoded data removed]"
          },
          "metadata": {},
          "execution_count": 45
        }
      ]
    },
    {
      "cell_type": "markdown",
      "source": [
        "The first qubit now contains the vector $g(x^{(0)})$ (up to some normalization), when the last two qubits are both zero, i.e. the projections are given by 2). We can use this knowledge to estimate the information efficiency of the constructed encoding."
      ],
      "metadata": {
        "id": "-iz7_rYWFrZv"
      }
    },
    {
      "cell_type": "code",
      "source": [
        "def estimate_ie(U: qk.QuantumCircuit, estimator: Estimator) -> float:\n",
        "    zero = qk.quantum_info.SparsePauliOp([\"I\", \"Z\"], coeffs=[0.5, 0.5])\n",
        "    obs = qk.quantum_info.SparsePauliOp(\"I\" * (U.num_qubits - 3)) ^ zero ^ zero ^ qk.quantum_info.SparsePauliOp(\"I\")\n",
        "    circ = qk.transpile(U, estimator._backend, optimization_level=3)\n",
        "    obs = obs.apply_layout(circ.layout)\n",
        "    return np.sqrt(estimator.run([(circ, obs)]).result()[0].data.evs)\n",
        "\n",
        "\n",
        "ie = estimate_ie(U_g, estimator)\n",
        "ie"
      ],
      "metadata": {
        "colab": {
          "base_uri": "https://localhost:8080/"
        },
        "id": "zQa4o3UPD7N_",
        "outputId": "64e8829a-ba72-479f-ac96-e8292505cc79"
      },
      "execution_count": 46,
      "outputs": [
        {
          "output_type": "execute_result",
          "data": {
            "text/plain": [
              "0.23335595128472728"
            ]
          },
          "metadata": {},
          "execution_count": 46
        }
      ]
    },
    {
      "cell_type": "markdown",
      "source": [
        "The next step is to amplify the encoding. We try here to obtain an encoding with information efficiency 1, since this would mean that we can drop the projections of the last two qubits. They would be in the image of the projection anyways.\n",
        "\n",
        "Amplitude amplification with $k$ iterations leads to an information efficiency of $\\sin(k \\sin^{-1}(\\eta))$, so we need the information efficiency to be $\\pi/(2k)$ for some odd $k$. This is not the case here, so we write a function constructing a block encoding of $g(x)$, that can optionally remove some information efficiency."
      ],
      "metadata": {
        "id": "0bHiFn7ZFo9D"
      }
    },
    {
      "cell_type": "code",
      "source": [
        "def block_encoding_g(x: BlockEncoding, target_norm: float | None = None) -> BlockEncoding:\n",
        "    norm = np.sqrt(2) + (2/8) * x.norm ** 2\n",
        "\n",
        "    if target_norm is not None:\n",
        "        # assert target_norm > norm\n",
        "        if target_norm <= norm:\n",
        "            target_norm = norm + 1e-6\n",
        "        diff = target_norm - norm\n",
        "        angle = 2 * np.arctan(np.sqrt((np.sqrt(2) + diff) / ((2/8) * x.norm ** 2)))\n",
        "        angle2 = 2 * np.arccos(np.sqrt(2) / (np.sqrt(2) + diff))\n",
        "        norm = target_norm\n",
        "    else:\n",
        "        angle = 2 * np.arctan(np.sqrt(np.sqrt(2) / ((2/8) * x.norm ** 2)))\n",
        "\n",
        "    c = qk.QuantumRegister(1, name=\"c\")\n",
        "    x1 = qk.QuantumRegister(1, name=\"x1\")\n",
        "    x2 = qk.QuantumRegister(1, name=\"x2\")\n",
        "    add = qk.QuantumRegister(1, name=\"add\")\n",
        "    a = qk.QuantumRegister(x.cU.num_qubits - 2, name=\"a\")  # Register to give x the ancilla space it needs\n",
        "\n",
        "    # Define non-controlled circuit\n",
        "    U = qk.QuantumCircuit(x1, x2, add, a, name=\"U_g\")\n",
        "    U.ry(angle, add)\n",
        "    U.ch(add, x1)\n",
        "\n",
        "    # Here, in the case where the add bit is |1> we rotate the bit used to store the second copy of x.\n",
        "    # This is normally unused in this case.\n",
        "    if target_norm is not None:\n",
        "        U.cry(angle2, add, x2)\n",
        "\n",
        "    U.x(add)\n",
        "    U.z(add)\n",
        "    U.append(x.cU, [add, x1[0]] + a[:x.cU.num_qubits - 2])\n",
        "    U.append(x.cU, [add, x2[0]] + a[-(x.cU.num_qubits - 2):])\n",
        "    U.ch(add, x1)\n",
        "    U.ch(add, x2)\n",
        "    U.ccx(add, x1, x2)\n",
        "    U.ry(-(np.pi - angle), add)\n",
        "\n",
        "    # Define controlled circuit analogously\n",
        "    cU = qk.QuantumCircuit(c, x1, x2, add, a, name=\"cU_g\")\n",
        "    cU.cry(angle, c, add)\n",
        "    cU.ch(add, x1)\n",
        "    if target_norm is not None:\n",
        "        cU.cry(angle2, add, x2)\n",
        "    cU.cx(c, add)\n",
        "    cU.z(add)\n",
        "    cU.append(x.cU, [add, x1[0]] + a[:x.cU.num_qubits - 2])\n",
        "    cU.append(x.cU, [add, x2[0]] + a[-(x.cU.num_qubits - 2):])\n",
        "    cU.ch(add, x1)\n",
        "    cU.ch(add, x2)\n",
        "    cU.ccx(add, x1, x2)\n",
        "    cU.cry(-(np.pi - angle), c, add)\n",
        "\n",
        "    return BlockEncoding(U, cU, norm)\n",
        "\n",
        "x1 = block_encoding_g(x0, (np.sqrt(2) + (2/8) * 2) * ie / 0.5)\n",
        "x1.U.draw(\"mpl\")"
      ],
      "metadata": {
        "colab": {
          "base_uri": "https://localhost:8080/",
          "height": 255
        },
        "id": "AfTMkjwHD8Ts",
        "outputId": "f9881967-eceb-404c-a849-af26d6a34ac2"
      },
      "execution_count": 49,
      "outputs": [
        {
          "output_type": "execute_result",
          "data": {
            "text/plain": [
              "<Figure size 1224.84x284.278 with 1 Axes>"
            ],
            "image/png": "[encoded data removed]"
          },
          "metadata": {},
          "execution_count": 49
        }
      ]
    },
    {
      "cell_type": "markdown",
      "source": [
        "This now has information efficiency $0.5$ so we can use $k = 3$ steps of amplitude amplification to get an encoding with perfrect information efficiency."
      ],
      "metadata": {
        "id": "TDe0BxuVGQem"
      }
    },
    {
      "cell_type": "code",
      "source": [
        "estimate_ie(x1.U, estimator)"
      ],
      "metadata": {
        "colab": {
          "base_uri": "https://localhost:8080/"
        },
        "id": "Vo91yKksD9jP",
        "outputId": "a6da354d-babd-4516-9113-1cd39ffd3c90"
      },
      "execution_count": 50,
      "outputs": [
        {
          "output_type": "execute_result",
          "data": {
            "text/plain": [
              "0.58334723792952"
            ]
          },
          "metadata": {},
          "execution_count": 50
        }
      ]
    },
    {
      "cell_type": "markdown",
      "source": [
        "Let us define a function that chooses $k$ and performs the above steps automatically."
      ],
      "metadata": {
        "id": "39K0UrB9GVBj"
      }
    },
    {
      "cell_type": "code",
      "source": [
        "def amplify(inp: BlockEncoding, k: int) -> BlockEncoding:\n",
        "\n",
        "    c = qk.QuantumRegister(1, name=\"c\")\n",
        "    x = qk.QuantumRegister(inp.U.num_qubits, name=\"x\")\n",
        "    a = qk.QuantumRegister(1, name=\"a\")\n",
        "\n",
        "    # Define non-controlled unitary\n",
        "    U = qk.QuantumCircuit(x)\n",
        "    for i in range(k):\n",
        "        if i % 2 == 0:\n",
        "            U.append(inp.U, x[:])\n",
        "        else:\n",
        "            U.append(inp.U.inverse(), x[:])\n",
        "\n",
        "        if i == (k - 1):\n",
        "            if ((k - 1) / 2) % 2 == 1:\n",
        "                U.append(qk.circuit.library.GlobalPhaseGate(np.pi))\n",
        "        elif i % 2 == 1:\n",
        "            # Flip phase if first three qubits are zero\n",
        "            U.x([x[0], x[1], x[2]])\n",
        "            U.ccz(x[0], x[1], x[2])\n",
        "            U.x([x[0], x[1], x[2]])\n",
        "        else:\n",
        "            # Flip phase if second and third qubits are zero\n",
        "            U.x([x[1], x[2]])\n",
        "            U.cz(x[1], x[2])\n",
        "            U.x([x[1], x[2]])\n",
        "\n",
        "    # Define controlled unitary\n",
        "    if inp.U.num_qubits == 3:\n",
        "        cU = qk.QuantumCircuit(c, x, a)\n",
        "    else:\n",
        "        cU = qk.QuantumCircuit(c, x)\n",
        "        # After step 1 we can reuse an ancilla bit\n",
        "        a = x[-1:]\n",
        "    for i in range(k):\n",
        "        if i % 2 == 0:\n",
        "            if i == k - 1:\n",
        "                cU.append(inp.cU, c[:] + x[:])\n",
        "            else:\n",
        "                cU.append(inp.U, x[:])\n",
        "        else:\n",
        "            cU.append(inp.U.inverse(), x[:])\n",
        "        if i == (k - 1):\n",
        "            if ((k - 1) / 2) % 2 == 1:\n",
        "                cU.z(c)\n",
        "        elif i % 2 == 1:\n",
        "            cU.x([x[0], x[1], x[2]])\n",
        "            cU.rccx(x[0], x[1], a[0])\n",
        "            cU.ccz(c, a[0], x[2])\n",
        "            cU.rccx(x[0], x[1], a[0])\n",
        "            cU.x([x[0], x[1], x[2]])\n",
        "        else:\n",
        "            cU.x([x[1], x[2]])\n",
        "            cU.ccz(c, x[1], x[2])\n",
        "            cU.x([x[1], x[2]])\n",
        "\n",
        "    return BlockEncoding(U, cU, inp.norm * np.sin(np.pi/(2 * k)))\n",
        "\n",
        "x1 = amplify(x1, 3)\n",
        "x1.U.draw(\"mpl\")"
      ],
      "metadata": {
        "colab": {
          "base_uri": "https://localhost:8080/",
          "height": 255
        },
        "id": "qEyNLGpgGcKe",
        "outputId": "683f4e56-373f-4608-b593-512f605665b4"
      },
      "execution_count": 54,
      "outputs": [
        {
          "output_type": "execute_result",
          "data": {
            "text/plain": [
              "<Figure size 955.183x284.278 with 1 Axes>"
            ],
            "image/png": "[encoded data removed]"
          },
          "metadata": {},
          "execution_count": 54
        }
      ]
    },
    {
      "cell_type": "code",
      "source": [
        "estimate_ie(x1.U, estimator)"
      ],
      "metadata": {
        "colab": {
          "base_uri": "https://localhost:8080/"
        },
        "id": "uMO0_kNdGezA",
        "outputId": "53bf58aa-19b0-4168-8542-ce8a838b9fb2"
      },
      "execution_count": 55,
      "outputs": [
        {
          "output_type": "execute_result",
          "data": {
            "text/plain": [
              "0.9553753189192193"
            ]
          },
          "metadata": {},
          "execution_count": 55
        }
      ]
    },
    {
      "cell_type": "markdown",
      "source": [
        "Let us define a function that chooses $k$ and performs the above steps automatically."
      ],
      "metadata": {
        "id": "MosvkHL3Gg8v"
      }
    },
    {
      "cell_type": "code",
      "source": [
        "def g(x: BlockEncoding, estimator: Estimator):\n",
        "    res = block_encoding_g(x)\n",
        "    if type(estimator) is float:\n",
        "        ie = estimator\n",
        "    else:\n",
        "        ie = estimate_ie(res.U, estimator)\n",
        "    k = 2 * int(np.ceil(0.25 * (np.pi / np.arcsin(ie) - 2))) + 1\n",
        "    add_subnorm = np.sin(np.pi/(2 * k)) / ie\n",
        "    target_norm = res.norm / add_subnorm\n",
        "    res = block_encoding_g(x, target_norm)\n",
        "    return amplify(res, k)"
      ],
      "metadata": {
        "id": "pNs9ntukEr4i"
      },
      "execution_count": 56,
      "outputs": []
    },
    {
      "cell_type": "markdown",
      "source": [
        "We run a few iterations to verify our results."
      ],
      "metadata": {
        "id": "6eTDEUqRGkFi"
      }
    },
    {
      "cell_type": "code",
      "source": [
        "N = 3\n",
        "x = x0\n",
        "x_ref = np.array([1, 1])\n",
        "for i in range(N):\n",
        "    x = g(x, estimator)\n",
        "\n",
        "    # Sample the encoding x\n",
        "    obs0 = qk.quantum_info.SparsePauliOp([\"I\" * x.U.num_qubits, \"I\" * (x.U.num_qubits - 1) + \"Z\"], coeffs=[0.5, 0.5])\n",
        "    circ = qk.transpile(x.U, estimator._backend, optimization_level=3)\n",
        "    obs0 = obs0.apply_layout(circ.layout)\n",
        "    result = estimator.run([(circ, obs0)]).result()\n",
        "    p = np.array([result[0].data.evs, 1-result[0].data.evs])\n",
        "    print(f\"x{i+1} (simulated): {np.sqrt(p) * x.norm}\")\n",
        "\n",
        "    x_ref = np.array([1 - 0.125 * (x_ref[0] + x_ref[1]) ** 2, 1 - 0.125 * (x_ref[0] - x_ref[1]) ** 2])\n",
        "    print(f\"x{i+1} (reference): {x_ref}\")"
      ],
      "metadata": {
        "colab": {
          "base_uri": "https://localhost:8080/"
        },
        "id": "gag5ocNrEtij",
        "outputId": "f34e2d4c-cf7b-4ae2-9820-511239dfa971"
      },
      "execution_count": 57,
      "outputs": [
        {
          "output_type": "stream",
          "name": "stdout",
          "text": [
            "x1 (simulated): [0.5005316  1.00039112]\n",
            "x1 (reference): [0.5 1. ]\n",
            "x2 (simulated): [0.72058954 0.96877753]\n",
            "x2 (reference): [0.71875 0.96875]\n",
            "x3 (simulated): [0.64781924 0.99010949]\n",
            "x3 (reference): [0.64404297 0.9921875 ]\n"
          ]
        }
      ]
    },
    {
      "cell_type": "markdown",
      "source": [
        "Note, that while the number of qubits grows with each iteration, it only does so linearly. The runtime increases roughly exponentially. We could also give each instance of $U_x$ its own memory in the definition of `block_encoding_g`, which would lead to exponential memory growth, but linear circuit depth."
      ],
      "metadata": {
        "id": "fNTHHPGsGnyl"
      }
    },
    {
      "cell_type": "code",
      "source": [
        "x.U.draw(\"mpl\")"
      ],
      "metadata": {
        "colab": {
          "base_uri": "https://localhost:8080/",
          "height": 577
        },
        "id": "-926BTJMEycf",
        "outputId": "f12a450e-427f-4d9c-9979-6ee0eee33eee"
      },
      "execution_count": 58,
      "outputs": [
        {
          "output_type": "execute_result",
          "data": {
            "text/plain": [
              "<Figure size 955.183x702.333 with 1 Axes>"
            ],
            "image/png": "[encoded data removed]"
          },
          "metadata": {},
          "execution_count": 58
        }
      ]
    }
  ]
}